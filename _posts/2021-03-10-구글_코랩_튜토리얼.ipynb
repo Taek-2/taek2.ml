{
  "nbformat": 4,
  "nbformat_minor": 0,
  "metadata": {
    "colab": {
      "name": "구글 코랩 튜토리얼",
      "provenance": [],
      "collapsed_sections": []
    },
    "kernelspec": {
      "name": "python3",
      "display_name": "Python 3"
    }
  },
  "cells": [
    {
      "cell_type": "markdown",
      "metadata": {
        "id": "Y3uii4ALCuuT"
      },
      "source": [
        "<p><img alt=\"Colaboratory logo\" height=\"45px\" src=\"/img/colab_favicon.ico\" align=\"left\" hspace=\"10px\" vspace=\"0px\"></p>\n",
        "\n",
        "\n",
        "\n",
        "# 구글 코랩 시작하기\n",
        "### 20917 오은택\n",
        "\n",
        "Google Colaboratory는 브라우저에서 [Python](https://www.google.com/search?q=파이썬)을 작성하고 실행할 수 있습니다.\n",
        "작성, 컴파일, 실행 등 모든 과정이 온라인에서 실행되고, 구글 문서처럼 여러 사람이 동시에 편집할 수 있다는 이점을 가집니다. 구글 서버의 [GPU](https://www.google.com/search?q=GPU)를 사용하기에 원래 많은 리소스를 요구하는 [ML](https://www.google.com/search?q=머신러닝)등에 주로 사용되지만,\n",
        "\n",
        "\n",
        "별도의 모듈이나 라이브러리 구성이 필요 없고 휴대폰이나 태블릿에서도 작업이 가능해서 동아리 내의 원활한 소스코드 공유를 위해 사용할 계획입니다."
      ]
    },
    {
      "cell_type": "markdown",
      "metadata": {
        "id": "ryJerk26KUN_"
      },
      "source": [
        "## 예제 실행에 앞서, 상단의 **드라이브로 복사** 를 눌러 자신의 드라이브로 복사해 사본에서 실행하세요."
      ]
    },
    {
      "cell_type": "markdown",
      "metadata": {
        "id": "ubNTMPKiDYoL"
      },
      "source": [
        "예시 1"
      ]
    },
    {
      "cell_type": "code",
      "metadata": {
        "id": "P0Jg66_SCpci",
        "colab": {
          "base_uri": "https://localhost:8080/"
        },
        "outputId": "cf012eaa-0b6b-49c7-af39-738f131113f5"
      },
      "source": [
        "print(\"hello, world!\")"
      ],
      "execution_count": null,
      "outputs": [
        {
          "output_type": "stream",
          "text": [
            "hello, world!\n"
          ],
          "name": "stdout"
        }
      ]
    },
    {
      "cell_type": "markdown",
      "metadata": {
        "id": "R8qm4HDvDkz-"
      },
      "source": [
        "위의 코드를 실행해 보세요. 최초 실행시 시간이 다소 소요됩니다.\n",
        "정상 실행시 hello, world!가 출력되며 실행버튼이 [**1**] 로 표기됩니다. [**n**]은 해당 코드가 페이지 내에서 n번 실행되었음을 표기합니다."
      ]
    },
    {
      "cell_type": "markdown",
      "metadata": {
        "id": "lYKwG3IxHDFn"
      },
      "source": [
        "예시 2"
      ]
    },
    {
      "cell_type": "code",
      "metadata": {
        "id": "51ZzW71GD503",
        "colab": {
          "base_uri": "https://localhost:8080/"
        },
        "outputId": "76d1f03f-2793-44d5-c857-fba6446f8398"
      },
      "source": [
        "print(a)"
      ],
      "execution_count": null,
      "outputs": [
        {
          "output_type": "stream",
          "text": [
            "hello, world!\n"
          ],
          "name": "stdout"
        }
      ]
    },
    {
      "cell_type": "markdown",
      "metadata": {
        "id": "8oVhLHONEAy2"
      },
      "source": [
        "위의 코드는 **a**라는 변수를 출력하도록 쓰여졌지만, **a**라는 변수가 아직 정의된 바 없기에, \n",
        "**NameError: name 'a' is not defined**\n",
        "라는 오류가 뜨게되지요, 만약 자신이 모르는 오류의 경우에는 **SEARCH STACK OVERFLOW**를 클릭해 검색해 볼 수 있습니다."
      ]
    },
    {
      "cell_type": "markdown",
      "metadata": {
        "id": "pYES2_JNHEcp"
      },
      "source": [
        "예시 3"
      ]
    },
    {
      "cell_type": "code",
      "metadata": {
        "id": "OXowJJ0-Ezzf"
      },
      "source": [
        "a=\"hello, world!\""
      ],
      "execution_count": null,
      "outputs": []
    },
    {
      "cell_type": "markdown",
      "metadata": {
        "id": "EPHpCls5E4sE"
      },
      "source": [
        "이제 위의 **a**를 정의하는 코드를 실행한 후, 다시 **예시 2**를 실행해보세요.\n",
        "\n",
        "\n",
        "\n",
        "이제는 제대로 출력이 될겁니다.\n",
        "이처럼, 같은 코드도 상->하 순서가 아니라, 개별 실행 순서에 따라서 다른 결과값을 출력하는 것을 알 수 있습니다.\n",
        "\n",
        "이제, 직접 코드를 만들어 보세요. **+코드**로 파이썬 코드를 추가할 수 있고, **+텍스트**로 주석(설명)을 추가할 수 있습니다.  \n",
        "\n",
        "자신의 구글 드라이브에 **+ 새로 만들기**>**더보기**를 눌러 만들 수 있습니다."
      ]
    }
  ]
}